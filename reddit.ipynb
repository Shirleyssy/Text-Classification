{
  "nbformat": 4,
  "nbformat_minor": 0,
  "metadata": {
    "colab": {
      "name": "reddit.ipynb",
      "provenance": [],
      "collapsed_sections": []
    },
    "kernelspec": {
      "display_name": "Python 3",
      "name": "python3"
    }
  },
  "cells": [
    {
      "cell_type": "markdown",
      "metadata": {
        "id": "Z7zycOkAs2Nz"
      },
      "source": [
        "In this project, the procedure will be implemented as follows:\n",
        "\n",
        "* Data preprocessing\n",
        "* Bernoulli Naive Bayes model construction\n",
        "* Model built by Scikit Learn\n",
        "* Cross-validation to evaluate the performance\n",
        "* Further improvement of two models"
      ]
    },
    {
      "cell_type": "markdown",
      "metadata": {
        "id": "lTNVtjSGtT9C"
      },
      "source": [
        "## Data Preprossing"
      ]
    },
    {
      "cell_type": "code",
      "metadata": {
        "id": "gv6BRQZ5tDnA"
      },
      "source": [
        "#import libraries\n",
        "import os\n",
        "import numpy as np\n",
        "import matplotlib.pyplot as plt\n",
        "import pandas as pd\n",
        "from nltk import word_tokenize          \n",
        "from nltk.stem import WordNetLemmatizer\n",
        "from sklearn.feature_extraction import text\n",
        "from sklearn.neural_network import MLPClassifier\n",
        "from sklearn.metrics import plot_confusion_matrix\n",
        "import time as t\n",
        "topic = ['rpg', 'anime', 'datascience', 'hardware', 'cars', 'gamernews', 'gamedev', 'computers']\n",
        "my_stop_words = text.ENGLISH_STOP_WORDS\n",
        "\n",
        "#import datasets\n",
        "train = pd.read_csv('train.csv')\n",
        "test = pd.read_csv('test.csv')"
      ],
      "execution_count": 16,
      "outputs": []
    },
    {
      "cell_type": "code",
      "metadata": {
        "id": "vcjWKtnetFmD",
        "outputId": "c9686282-d7ae-4f15-9832-e00f3d2c3ef8",
        "colab": {
          "base_uri": "https://localhost:8080/",
          "height": 204
        }
      },
      "source": [
        "#take a look at the first five rows of the train dataset\n",
        "train.head()"
      ],
      "execution_count": 3,
      "outputs": [
        {
          "output_type": "execute_result",
          "data": {
            "text/html": [
              "<div>\n",
              "<style scoped>\n",
              "    .dataframe tbody tr th:only-of-type {\n",
              "        vertical-align: middle;\n",
              "    }\n",
              "\n",
              "    .dataframe tbody tr th {\n",
              "        vertical-align: top;\n",
              "    }\n",
              "\n",
              "    .dataframe thead th {\n",
              "        text-align: right;\n",
              "    }\n",
              "</style>\n",
              "<table border=\"1\" class=\"dataframe\">\n",
              "  <thead>\n",
              "    <tr style=\"text-align: right;\">\n",
              "      <th></th>\n",
              "      <th>body</th>\n",
              "      <th>subreddit</th>\n",
              "    </tr>\n",
              "  </thead>\n",
              "  <tbody>\n",
              "    <tr>\n",
              "      <th>0</th>\n",
              "      <td>As the title says  I'm looking for recommendat...</td>\n",
              "      <td>rpg</td>\n",
              "    </tr>\n",
              "    <tr>\n",
              "      <th>1</th>\n",
              "      <td>Poor planning. Yeah  I can tie together a neat...</td>\n",
              "      <td>rpg</td>\n",
              "    </tr>\n",
              "    <tr>\n",
              "      <th>2</th>\n",
              "      <td>I'm actually running (two of) my dream campaig...</td>\n",
              "      <td>rpg</td>\n",
              "    </tr>\n",
              "    <tr>\n",
              "      <th>3</th>\n",
              "      <td>In general note that all level-class systems a...</td>\n",
              "      <td>rpg</td>\n",
              "    </tr>\n",
              "    <tr>\n",
              "      <th>4</th>\n",
              "      <td>Just posted this review at my blog of the newl...</td>\n",
              "      <td>rpg</td>\n",
              "    </tr>\n",
              "  </tbody>\n",
              "</table>\n",
              "</div>"
            ],
            "text/plain": [
              "                                                body subreddit\n",
              "0  As the title says  I'm looking for recommendat...       rpg\n",
              "1  Poor planning. Yeah  I can tie together a neat...       rpg\n",
              "2  I'm actually running (two of) my dream campaig...       rpg\n",
              "3  In general note that all level-class systems a...       rpg\n",
              "4  Just posted this review at my blog of the newl...       rpg"
            ]
          },
          "metadata": {
            "tags": []
          },
          "execution_count": 3
        }
      ]
    },
    {
      "cell_type": "code",
      "metadata": {
        "id": "Vw_RNjx_tH-Y"
      },
      "source": [
        "#splitting features and target in the dataset\n",
        "X = pd.DataFrame(train['body'])\n",
        "Y = pd.DataFrame(train['subreddit'])\n",
        "X_realtest = pd.DataFrame(test['body'])\n",
        "data = pd.DataFrame(train)\n",
        "#converting pandas dataframe to numpy array\n",
        "\n",
        "X_ = X.to_numpy()\n",
        "Y_ = Y.to_numpy()\n",
        "X_realtest_ = X_realtest.to_numpy()\n",
        "\n",
        "X = X['body'].tolist() \n",
        "Y = Y['subreddit'].tolist()\n",
        "X_realtest = X_realtest['body'].tolist() \n",
        "data = train.to_numpy()\n",
        "X_all = X+X_realtest\n",
        "maxFeatures = 5000"
      ],
      "execution_count": 2,
      "outputs": []
    },
    {
      "cell_type": "code",
      "metadata": {
        "id": "ChNOHu5fs3fk",
        "outputId": "ce6eb4ff-b652-452a-eec5-1dd088820501",
        "colab": {
          "base_uri": "https://localhost:8080/"
        }
      },
      "source": [
        "!Pip install nltk\n",
        "import nltk\n",
        "nltk.download('punkt')\n",
        "nltk.download('stopwords')\n",
        "nltk.download('wordnet')\n",
        "nltk.download('averaged_perceptron_tagger')\n",
        "\n",
        "from sklearn.feature_extraction.text import CountVectorizer\n",
        "from sklearn.feature_extraction import text\n",
        "from nltk.stem import PorterStemmer\n",
        "from nltk import word_tokenize\n",
        "from sklearn.model_selection import train_test_split\n",
        "from sklearn.model_selection import KFold\n",
        "from sklearn import metrics\n",
        "import time as t"
      ],
      "execution_count": 3,
      "outputs": [
        {
          "output_type": "stream",
          "text": [
            "/bin/bash: Pip: command not found\n",
            "[nltk_data] Downloading package punkt to /root/nltk_data...\n",
            "[nltk_data]   Unzipping tokenizers/punkt.zip.\n",
            "[nltk_data] Downloading package stopwords to /root/nltk_data...\n",
            "[nltk_data]   Unzipping corpora/stopwords.zip.\n",
            "[nltk_data] Downloading package wordnet to /root/nltk_data...\n",
            "[nltk_data]   Unzipping corpora/wordnet.zip.\n",
            "[nltk_data] Downloading package averaged_perceptron_tagger to\n",
            "[nltk_data]     /root/nltk_data...\n",
            "[nltk_data]   Unzipping taggers/averaged_perceptron_tagger.zip.\n"
          ],
          "name": "stdout"
        }
      ]
    },
    {
      "cell_type": "code",
      "metadata": {
        "id": "l4YrkoY0FmwK"
      },
      "source": [
        "# This function sets 1 for all non-zero elements in a vector.\n",
        "def trans_train(X):\n",
        "  Z = X\n",
        "  for i in np.arange(X.shape[0]):\n",
        "    for j in np.arange(X.shape[1]):\n",
        "      if X[i,j] != 0:\n",
        "        Z[i,j] = 1\n",
        "  return Z"
      ],
      "execution_count": 4,
      "outputs": []
    },
    {
      "cell_type": "code",
      "metadata": {
        "id": "VArm1VA8fNkM"
      },
      "source": [
        "# Defining a lemmatization\n",
        "from nltk import word_tokenize          \n",
        "from nltk.stem import WordNetLemmatizer \n",
        "from nltk.corpus import wordnet\n",
        "def get_wordnet_pos(word):\n",
        "    \"\"\"Map POS tag to first character lemmatize() accepts\"\"\"\n",
        "    tag = nltk.pos_tag([word])[0][1][0].upper()\n",
        "    tag_dict = {\"J\": wordnet.ADJ,\n",
        "                \"N\": wordnet.NOUN,\n",
        "                \"V\": wordnet.VERB,\n",
        "                \"R\": wordnet.ADV}\n",
        "    return tag_dict.get(tag, wordnet.NOUN)\n",
        "class New_LemmaTokenizer:\n",
        "     def __init__(self):\n",
        "       self.wnl = WordNetLemmatizer()\n",
        "     def __call__(self, doc):\n",
        "       return [self.wnl.lemmatize(t,pos =get_wordnet_pos(t)) for t in word_tokenize(doc) if t.isalpha()]\n"
      ],
      "execution_count": 5,
      "outputs": []
    },
    {
      "cell_type": "code",
      "metadata": {
        "id": "2iM-CeesfaIg"
      },
      "source": [
        "#Definina a CounteVectorizer with max features of 500. Removing stop words and words appeared in more than 60% of the sentences.\n",
        "vectorizer = CountVectorizer(max_features=maxFeatures, stop_words = my_stop_words, tokenizer=New_LemmaTokenizer(),max_df=0.6)\n",
        "vectorizer.fit(X_all)"
      ],
      "execution_count": null,
      "outputs": []
    },
    {
      "cell_type": "markdown",
      "metadata": {
        "id": "_BZzUn3V1Ucy"
      },
      "source": [
        "Bernoulli Naive Bayes classifier"
      ]
    },
    {
      "cell_type": "code",
      "metadata": {
        "id": "XXwCI9nIFIMU"
      },
      "source": [
        "class NBN():\n",
        "  def __init__(self, X, Y):\n",
        "    self.X = X\n",
        "    self.Y = Y\n",
        "    self.topic_portion = []\n",
        "    self.freq_feature = np.zeros((8,self.X.shape[1]))\n",
        "\n",
        "  def build_NBN(self):\n",
        "    # this module builds Naive bayes classifier option 1: one classifier for all 8 classes\n",
        "    topics = np.array([['rpg'], ['anime'], ['datascience'], ['hardware'], ['cars'], ['gamernews'], ['gamedev'], ['computers']])\n",
        "    each_topic = []\n",
        "    topic_portion = []\n",
        "\n",
        "    for topic in topics:\n",
        "      each_topic.append((sum([i == topic for i in self.Y]))[0])\n",
        "    self.topic_portion = topic_portion\n",
        "\n",
        "    i=0\n",
        "    j=0\n",
        "    sum_feature = np.zeros((8,self.X.shape[1]))\n",
        "    freq_feature = np.zeros((8,self.X.shape[1]))\n",
        "    for count in each_topic:\n",
        "      sum_feature[i,:] = np.sum(self.X[j:j+count,:],axis=0)\n",
        "      freq_feature[i,:] = (np.sum(self.X[j:j+count,:],axis=0)+1)/(count+8)\n",
        "      i=i+1\n",
        "      j=j+count\n",
        "     \n",
        "    self.freq_feature = freq_feature\n",
        "    #print(freq_feature)\n",
        "    return topic_portion,freq_feature,topics\n",
        "\n",
        "\n",
        "  def build_NBN_ovsall(self):\n",
        "    # this module builds Naive bayes classifier option 2: 8 classifiers (one-vs-all)\n",
        "    topics = np.array([['rpg'], ['anime'], ['datascience'], ['hardware'], ['cars'], ['gamernews'], ['gamedev'], ['computers']])\n",
        "    each_topic = []\n",
        "    topic_portion = []\n",
        "    n = self.X.shape[0]\n",
        "\n",
        "    for topic in topics:\n",
        "      each_topic.append((sum([i == topic for i in self.Y]))[0])\n",
        "      topic_portion.append((sum([i == topic for i in self.Y])/len(self.Y))[0])\n",
        "    self.topic_portion = topic_portion\n",
        "\n",
        "    i=0\n",
        "    j=0\n",
        "    sum_feature = np.zeros((8,self.X.shape[1]))\n",
        "    freq_feature = np.zeros((8,self.X.shape[1]))\n",
        "    for count in each_topic:\n",
        "      sum_feature[i,:] = np.sum(self.X[j:j+count,:],axis=0)\n",
        "      freq_feature[i,:] = (np.sum(self.X[j:j+count,:],axis=0)+1)/(count+2)\n",
        "      #freq_feature[i,:] = (np.sum(trains[j:j+count,:],axis=0))/(count)\n",
        "      i=i+1\n",
        "      j=j+count\n",
        "\n",
        "    for i in np.arange(len(topics)):\n",
        "      freq_feature_ = (np.sum(freq_feature,axis=0)-freq_feature[i,:])/(n-each_topic[i])\n",
        "\n",
        "    self.fraction_theta = np.divide(freq_feature,freq_feature_)\n",
        "    self.fraction_theta_ = np.divide(1-freq_feature,1-freq_feature_)\n",
        "\n",
        "    self.freq_feature = freq_feature\n",
        "    #print(freq_feature)\n",
        "    return topic_portion,freq_feature,topics\n",
        "\n",
        "\n",
        "  def predict(self,X):\n",
        "    # This is the predict function for option 1.\n",
        "    prob = np.ones((1,8))\n",
        "    for j in np.arange(X.shape[1]):\n",
        "        prob = np.multiply(np.multiply(np.power(self.freq_feature[:,j],X[0,j]),np.power(1-self.freq_feature[:,j],1-X[0,j])),prob)\n",
        "    prob = np.log(np.multiply(self.topic_portion,prob))\n",
        "    category = np.argmax(prob)\n",
        "    \n",
        "    return category\n",
        "\n",
        "  def predict_ovsall(self,X):\n",
        "    # This is the predict function for option 2.\n",
        "    portion = np.array([topic_portion]).T\n",
        "    prob = np.log(np.divide(portion,(1-portion))) + np.sum(np.add(np.multiply(X,np.log(self.fraction_theta)),np.multiply(1-X,np.log(self.fraction_theta_))),axis=1)\n",
        "\n",
        "    category = np.argmax(prob)\n",
        "    \n",
        "    return category"
      ],
      "execution_count": 7,
      "outputs": []
    },
    {
      "cell_type": "code",
      "metadata": {
        "id": "kZJXyfOWv33l"
      },
      "source": [
        "def Accu_eval(X,Y,topics):\n",
        "  # This is the accuracy evaluation function for option 1.\n",
        "  n = X.shape[0]\n",
        "  result = np.zeros((1,n))\n",
        "  for i in np.arange(n):\n",
        "    result[0,i] = NBN1.predict(X[i,:])\n",
        "\n",
        "  #print(result)\n",
        "\n",
        "  Y_original = []\n",
        "  correct = 0\n",
        "  for i in np.arange(n):\n",
        "    Y_original.append(topics.tolist().index(Y[i]))\n",
        "    #Y_original.append(topics.index(Y[i]))\n",
        "    if topics.tolist().index(Y[i])-result[0,i] == 0:\n",
        "      \n",
        "      correct = correct+1\n",
        "\n",
        "  #print(Y_original)\n",
        "  return correct/n, result\n",
        "\n",
        "#accuracy, result = Accu_eval(tests,y_test)\n",
        "#print(accuracy)"
      ],
      "execution_count": 8,
      "outputs": []
    },
    {
      "cell_type": "code",
      "metadata": {
        "id": "KiZ-qX-vBEWh"
      },
      "source": [
        "def Accu_eval_ovsall(X,Y,topics):\n",
        "  # This is the accuracy evaluation function for option 2.\n",
        "  n = X.shape[0]\n",
        "  result = np.zeros((1,n))\n",
        "  for i in np.arange(n):\n",
        "    result[0,i] = NBN2.predict_ovsall(X[i,:])\n",
        "\n",
        "  #print(result)\n",
        "\n",
        "  Y_original = []\n",
        "  correct = 0\n",
        "  for i in np.arange(n):\n",
        "    Y_original.append(topics.tolist().index(Y[i]))\n",
        "    #Y_original.append(topics.index(Y[i]))\n",
        "    if topics.tolist().index(Y[i])-result[0,i] == 0:\n",
        "      \n",
        "      correct = correct+1\n",
        "\n",
        "  #print(Y_original)\n",
        "  return correct/n, result\n",
        "\n",
        "#accuracy, result = Accu_eval(tests,y_test)\n",
        "#print(accuracy)"
      ],
      "execution_count": 9,
      "outputs": []
    },
    {
      "cell_type": "code",
      "metadata": {
        "id": "3pQsztsOj3_L"
      },
      "source": [
        "# Performing 6-fold cross-validation on option 1\n",
        "kf = KFold(n_splits=6,shuffle=True)\n",
        "kf.get_n_splits(X_)\n",
        "print(kf.split(X_))\n",
        "accuracy = []\n",
        "X_train_ = []\n",
        "y_train_ = []\n",
        "X_test_ = []\n",
        "y_test_ = []\n",
        "t_op1 = []\n",
        "\n",
        "\n",
        "for train_index, test_index in kf.split(X_):\n",
        "\n",
        "  #print(\"TRAIN:\", train_index, \"TEST:\", test_index)\n",
        "  #print(type(train_index))\n",
        "  #print(train_index.shape[1])\n",
        "  X_train, X_test = X_[train_index], X_[test_index]\n",
        "  y_train, y_test = Y_[train_index].tolist(), Y_[test_index].tolist()\n",
        "\n",
        "  X_train_ = []\n",
        "  X_test_ = []\n",
        "  for sentence in X_train:\n",
        "    X_train_.append(sentence[0])\n",
        "  for sentence in X_test:\n",
        "    X_test_.append(sentence[0])\n",
        "\n",
        "  #print(X_train_[0:5])\n",
        "  #print(X_train[0:20,0:20])\n",
        "  #print(y_train[0:20])\n",
        "  X_train = X_train.tolist()\n",
        "  #print(X_train[0:20])\n",
        "  #vectorizer = CountVectorizer(max_features=maxFeatures, stop_words = my_stop_words, tokenizer=LemmaTokenizer())\n",
        "  #vectorizer = CountVectorizer(max_features=maxFeatures, stop_words = my_stop_words, tokenizer=New_LemmaTokenizer())\n",
        "  vectors_train = vectorizer.transform(X_train_)\n",
        "  vectors_test = vectorizer.transform(X_test_)\n",
        "  print(vectors_train.shape)\n",
        "\n",
        "  #np.set_printoptions(threshold=np.inf)\n",
        "  trains = vectors_train.todense()\n",
        "  tests = vectors_test.todense()\n",
        "\n",
        "  trains = trans_train(trains)\n",
        "  tests = trans_train(tests)\n",
        "\n",
        "\n",
        "  NBN2 = NBN(trains, y_train)\n",
        "  t1 = t.time()\n",
        "  topic_portion,freq_feature,topics = NBN2.build_NBN_ovsall()\n",
        "  #print(topics)\n",
        "  t2 = t.time()\n",
        "  t_op1.append(t2-t1)\n",
        "  accu, result = Accu_eval_ovsall(tests,y_test,topics)\n",
        "  t3 = t.time()\n",
        "  t_op1.append(t3-t2)\n",
        "  accuracy.append(accu)\n",
        "\n",
        "print('The average accuracy is:')\n",
        "print(np.mean(accuracy))\n",
        "print('The times took for training and prediction for each fold:')\n",
        "print(t_op1)"
      ],
      "execution_count": null,
      "outputs": []
    },
    {
      "cell_type": "code",
      "metadata": {
        "id": "gkSD3NeFIKyG"
      },
      "source": [
        "# Performing 6-fold cross-validation on option 2\n",
        "kf = KFold(n_splits=6,shuffle=True)\n",
        "kf.get_n_splits(X_)\n",
        "print(kf.split(X_))\n",
        "accuracy = []\n",
        "X_train_ = []\n",
        "y_train_ = []\n",
        "X_test_ = []\n",
        "y_test_ = []\n",
        "t_op2 = []\n",
        "\n",
        "\n",
        "for train_index, test_index in kf.split(X_):\n",
        "\n",
        "  #print(\"TRAIN:\", train_index, \"TEST:\", test_index)\n",
        "  #print(type(train_index))\n",
        "  #print(train_index.shape[1])\n",
        "  X_train, X_test = X_[train_index], X_[test_index]\n",
        "  y_train, y_test = Y_[train_index].tolist(), Y_[test_index].tolist()\n",
        "\n",
        "  X_train_ = []\n",
        "  X_test_ = []\n",
        "  for sentence in X_train:\n",
        "    X_train_.append(sentence[0])\n",
        "  for sentence in X_test:\n",
        "    X_test_.append(sentence[0])\n",
        "\n",
        "  #print(X_train_[0:5])\n",
        "  #print(X_train[0:20,0:20])\n",
        "  #print(y_train[0:20])\n",
        "  X_train = X_train.tolist()\n",
        "  #print(X_train[0:20])\n",
        "  #vectorizer = CountVectorizer(max_features=maxFeatures, stop_words = my_stop_words, tokenizer=LemmaTokenizer())\n",
        "  #vectorizer = CountVectorizer(max_features=maxFeatures, stop_words = my_stop_words, tokenizer=New_LemmaTokenizer())\n",
        "  vectors_train = vectorizer.transform(X_train_)\n",
        "  vectors_test = vectorizer.transform(X_test_)\n",
        "  print(vectors_train.shape)\n",
        "\n",
        "  #np.set_printoptions(threshold=np.inf)\n",
        "  trains = vectors_train.todense()\n",
        "  tests = vectors_test.todense()\n",
        "\n",
        "  trains = trans_train(trains)\n",
        "  tests = trans_train(tests)\n",
        "\n",
        "  NBN1 = NBN(trains, y_train)\n",
        "  t1 = t.time()\n",
        "  topic_portion,freq_feature,topics = NBN1.build_NBN()\n",
        "  #print(topics)\n",
        "  t2 = t.time()\n",
        "  t_op2.append(t2-t1)\n",
        "  accu, result = Accu_eval(tests,y_test,topics)\n",
        "  t3 = t.time()\n",
        "  t_op2.append(t3-t2)\n",
        "  accuracy.append(accu)\n",
        "\n",
        "print('The average accuracy is:')\n",
        "print(np.mean(accuracy))\n",
        "print('The times took for training and prediction for each fold:')\n",
        "print(t_op2)"
      ],
      "execution_count": null,
      "outputs": []
    },
    {
      "cell_type": "code",
      "metadata": {
        "id": "Fh-H3o-gDuCY",
        "outputId": "46f917c7-dcf8-4608-e619-665f69da58da",
        "colab": {
          "base_uri": "https://localhost:8080/"
        }
      },
      "source": [
        "#Generate predictions for the test set using one-vs-all method.\n",
        "vectors_alltrain = vectorizer.transform(X)\n",
        "alltrains = vectors_alltrain.todense()\n",
        "alltrains = trans_train(alltrains)\n",
        "NBN2 = NBN(alltrains, Y)\n",
        "topic_portion,freq_feature,topics = NBN2.build_NBN_ovsall()\n",
        "\n",
        "\n",
        "vectors_realtest = vectorizer.transform(X_realtest)\n",
        "realtests = vectors_realtest.todense()\n",
        "realtests = trans_train(realtests)\n",
        "\n",
        "n = realtests.shape[0]\n",
        "result = np.zeros((n,1))\n",
        "for i in np.arange(n):\n",
        "  result[i,0] = NBN2.predict(realtests[i,:])\n",
        "result = result.astype(int)\n",
        "result_type = []\n",
        "correct = 0\n",
        "for i in np.arange(n):\n",
        "  result_type.append(topics[result[i,0]][0])\n",
        "\n",
        "print(result_type[0:10])"
      ],
      "execution_count": 12,
      "outputs": [
        {
          "output_type": "stream",
          "text": [
            "/usr/local/lib/python3.6/dist-packages/ipykernel_launcher.py:77: RuntimeWarning: divide by zero encountered in log\n"
          ],
          "name": "stderr"
        },
        {
          "output_type": "stream",
          "text": [
            "['datascience', 'anime', 'rpg', 'hardware', 'hardware', 'cars', 'rpg', 'cars', 'gamedev', 'rpg']\n"
          ],
          "name": "stdout"
        }
      ]
    },
    {
      "cell_type": "code",
      "metadata": {
        "id": "PnbeCjnPU8RV"
      },
      "source": [
        "# Exporting to csv file.\n",
        "import csv\n",
        "id = []\n",
        "for i in np.arange(n):\n",
        "  id.append(i)\n",
        "\n",
        "test_submission = np.array([id,result_type]).T\n",
        "\n",
        "#np.savetxt(\"BNB.csv\", test_submission, delimiter=\",\")\n",
        "with open('BNB.csv','w') as f:\n",
        "    csv.writer(f).writerows(test_submission)"
      ],
      "execution_count": 13,
      "outputs": []
    },
    {
      "cell_type": "markdown",
      "metadata": {
        "id": "3sjjUhVDQby0"
      },
      "source": [
        "Artificial Neural Network"
      ]
    },
    {
      "cell_type": "code",
      "metadata": {
        "id": "-t5I7Rd0P_aN",
        "outputId": "6cb57662-1cd6-468b-8ca6-56b20b8aa059",
        "colab": {
          "base_uri": "https://localhost:8080/"
        }
      },
      "source": [
        "# Conducting a grid search over activation layer, hidden layer size and L2 penalty.\n",
        "from sklearn.model_selection import GridSearchCV\n",
        "from sklearn.metrics.scorer import make_scorer\n",
        "from sklearn import metrics\n",
        "from sklearn.neural_network import MLPClassifier\n",
        "vectorizer = CountVectorizer(max_features=maxFeatures, stop_words = my_stop_words, tokenizer=New_LemmaTokenizer())\n",
        "vectorizer.fit(X_all)\n",
        "\n",
        "train_x, test_x, train_y, test_y = train_test_split(X, Y,test_size=0.2, random_state=10) \n",
        "train_x=vectorizer.transform(train_x)\n",
        "#print(train_x)\n",
        "test_x=vectorizer.transform(test_x)\n",
        "#print(test_x)\n",
        "trains = train_x.todense()\n",
        "tests = test_x.todense()\n",
        "\n",
        "trains = trans_train(trains)\n",
        "tests = trans_train(tests)\n",
        "\n",
        "MLP = MLPClassifier(random_state=1, max_iter=500,early_stopping=True,solver='adam')\n",
        "parameters = {'hidden_layer_sizes':[(35),(40),(45),(50),(55)],'alpha':[0.022,0.024,0.026,0.028],'activation':('relu','tanh')}\n",
        "\n",
        "GS3 = GridSearchCV(MLP, parameters)\n",
        "GS3.fit(train_x, train_y)\n",
        "predicted = GS3.predict(test_x)\n",
        "predicted_train = GS3.predict(train_x)\n",
        "accu = metrics.accuracy_score(test_y, predicted)\n",
        "accu_train = metrics.accuracy_score(train_y, predicted_train)\n",
        "print(metrics.classification_report(test_y, predicted))\n",
        "print(accu)\n",
        "print(accu_train)"
      ],
      "execution_count": 15,
      "outputs": [
        {
          "output_type": "stream",
          "text": [
            "/usr/local/lib/python3.6/dist-packages/sklearn/utils/deprecation.py:144: FutureWarning: The sklearn.metrics.scorer module is  deprecated in version 0.22 and will be removed in version 0.24. The corresponding classes / functions should instead be imported from sklearn.metrics. Anything that cannot be imported from sklearn.metrics is now part of the private API.\n",
            "  warnings.warn(message, FutureWarning)\n",
            "/usr/local/lib/python3.6/dist-packages/sklearn/feature_extraction/text.py:507: UserWarning: The parameter 'token_pattern' will not be used since 'tokenizer' is not None'\n",
            "  warnings.warn(\"The parameter 'token_pattern' will not be used\"\n",
            "/usr/local/lib/python3.6/dist-packages/sklearn/feature_extraction/text.py:385: UserWarning: Your stop_words may be inconsistent with your preprocessing. Tokenizing the stop words generated tokens ['far', 'make', 'u'] not in stop_words.\n",
            "  'stop_words.' % sorted(inconsistent))\n"
          ],
          "name": "stderr"
        },
        {
          "output_type": "stream",
          "text": [
            "              precision    recall  f1-score   support\n",
            "\n",
            "       anime       0.95      0.96      0.96       256\n",
            "        cars       0.92      0.94      0.93       405\n",
            "   computers       0.76      0.62      0.68        80\n",
            " datascience       0.93      0.96      0.94       478\n",
            "     gamedev       0.87      0.79      0.83       191\n",
            "   gamernews       0.76      0.80      0.78       152\n",
            "    hardware       0.85      0.84      0.85       340\n",
            "         rpg       0.90      0.92      0.91       415\n",
            "\n",
            "    accuracy                           0.89      2317\n",
            "   macro avg       0.87      0.85      0.86      2317\n",
            "weighted avg       0.89      0.89      0.89      2317\n",
            "\n",
            "0.8942598187311178\n",
            "0.9767943874797625\n"
          ],
          "name": "stdout"
        }
      ]
    },
    {
      "cell_type": "code",
      "metadata": {
        "id": "Hj588Z4zQZ9I",
        "outputId": "cca21ef2-c382-4761-8c1e-a3575e168ec1",
        "colab": {
          "base_uri": "https://localhost:8080/"
        }
      },
      "source": [
        "# Show the best parameters\n",
        "print(GS3.best_params_)"
      ],
      "execution_count": 19,
      "outputs": [
        {
          "output_type": "stream",
          "text": [
            "{'activation': 'relu', 'alpha': 0.022, 'hidden_layer_sizes': 55}\n"
          ],
          "name": "stdout"
        }
      ]
    },
    {
      "cell_type": "code",
      "metadata": {
        "id": "hqqiOqRsQNz9"
      },
      "source": [
        "# Exporting predition of test set to csv.\n",
        "vectors_realtest = vectorizer.transform(X_realtest)\n",
        "realtests = vectors_realtest.todense()\n",
        "prediction = GS3.predict(realtests)\n",
        "\n",
        "import csv\n",
        "id = []\n",
        "for i in np.arange(2898):\n",
        "  id.append(i)\n",
        "\n",
        "test_submission = np.array([id,prediction]).T\n",
        "\n",
        "#np.savetxt(\"BNB.csv\", test_submission, delimiter=\",\")\n",
        "with open('BNB.csv','w') as f:\n",
        "    csv.writer(f).writerows(test_submission)"
      ],
      "execution_count": null,
      "outputs": []
    },
    {
      "cell_type": "code",
      "metadata": {
        "id": "JdKh70lqFYcq",
        "outputId": "0614b926-b0fa-4f31-a217-84d478ad17ef",
        "colab": {
          "base_uri": "https://localhost:8080/",
          "height": 330
        }
      },
      "source": [
        "import seaborn as sns\n",
        "from sklearn.metrics import confusion_matrix\n",
        "sns.set(font_scale=0.8)\n",
        "cm = confusion_matrix(test_y, predicted)\n",
        "ax= plt.subplot()\n",
        "sns.heatmap(cm, annot=True, ax = ax,vmin=0, vmax=20,fmt='d'); #annot=True to annotate cells\n",
        "# labels, title and ticks\n",
        "#ax.figsize(15,15)\n",
        "ax.set_xlabel('Predicted labels')\n",
        "ax.set_ylabel('True labels') \n",
        "ax.set_title('Confusion Matrix')  \n",
        "ax.xaxis.set_ticklabels(['rpg', 'anime', 'datascience', 'hardware', 'cars', 'gamernews', 'gamedev', 'computers'])\n",
        "ax.yaxis.set_ticklabels(['rpg', 'anime', 'datascience', 'hardware', 'cars', 'gamernews', 'gamedev', 'computers'])\n",
        "ax.tick_params(axis ='x', rotation = 45)\n",
        "ax.tick_params(axis ='y', rotation = 45)"
      ],
      "execution_count": 18,
      "outputs": [
        {
          "output_type": "display_data",
          "data": {
            "image/png": "[encoded data removed]",
            "text/plain": [
              "<Figure size 432x288 with 2 Axes>"
            ]
          },
          "metadata": {
            "tags": []
          }
        }
      ]
    }
  ]
}